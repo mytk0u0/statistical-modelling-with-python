{
 "cells": [
  {
   "cell_type": "markdown",
   "metadata": {},
   "source": [
    "# 1. データを理解するために統計モデルを作る\n",
    "\n",
    "(ざっくり要約)\n",
    "\n",
    "* 「ブラックボックスな統計解析」はよくない．\n",
    "* 疑似科学にありがちなこと．\n",
    "    * 「ゆーい差」が出るまで検定を繰り返す．\n",
    "    * 等分散じゃないなら変数変換してANOVA．\n",
    "    * なんでもかんでも多重検定法による補正をかける．\n",
    "    * p値が小さいほど自分の主張は正しい．"
   ]
  }
 ],
 "metadata": {
  "kernelspec": {
   "display_name": "Python [conda root]",
   "language": "python",
   "name": "conda-root-py"
  },
  "language_info": {
   "codemirror_mode": {
    "name": "ipython",
    "version": 3
   },
   "file_extension": ".py",
   "mimetype": "text/x-python",
   "name": "python",
   "nbconvert_exporter": "python",
   "pygments_lexer": "ipython3",
   "version": "3.5.2"
  }
 },
 "nbformat": 4,
 "nbformat_minor": 2
}
