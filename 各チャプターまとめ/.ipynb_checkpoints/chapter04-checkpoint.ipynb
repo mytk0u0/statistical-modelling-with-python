{
 "cells": [
  {
   "cell_type": "markdown",
   "metadata": {},
   "source": [
    "# 4. GLMモデルの選択 –AICと当てはまりの良さ–\n",
    "\n",
    "(ざっくり要約)\n",
    "\n",
    "* 逸脱度 $-2logL\\ast$ は「当てはまりの悪さ」である．\n",
    "    * $L\\ast$ は，「一番精度の高いパラメーターを使ったときの尤度」である．\n",
    "    * 最小値は，データ1つ1つに別個に最適なパラメーターのモデルを与えた場合の逸脱度になる．\n",
    "    * 最大値は，定数項だけのモデルを与えた場合の逸脱度になる．\n",
    "* AIC $-2logL\\ast + 2k$ は「良い予測をするかどうか」を判断してくれる．\n",
    "    * 計算的には，逸脱度に2k (kはパラメーターの数) を足しただけである．\n",
    "    * 適当な数字によるパラメーターを与えても，対数尤度は平均的して1だけ小さくなる．\n",
    "    * kによって逸脱度にペナルティを与えることでこの問題を回避することができる．"
   ]
  },
  {
   "cell_type": "code",
   "execution_count": 1,
   "metadata": {
    "collapsed": false
   },
   "outputs": [],
   "source": [
    "from collections import namedtuple\n",
    "import numpy as np\n",
    "import pandas as pd\n",
    "from scipy import stats\n",
    "import statsmodels.api as sm\n",
    "import statsmodels.formula.api as smf"
   ]
  },
  {
   "cell_type": "code",
   "execution_count": 2,
   "metadata": {
    "collapsed": true
   },
   "outputs": [],
   "source": [
    "d = pd.read_csv('data3a.csv')"
   ]
  },
  {
   "cell_type": "code",
   "execution_count": 3,
   "metadata": {
    "collapsed": false
   },
   "outputs": [
    {
     "data": {
      "text/plain": [
       "474.77250153972153"
      ]
     },
     "execution_count": 3,
     "metadata": {},
     "output_type": "execute_result"
    }
   ],
   "source": [
    "fit = smf.glm('y ~ x', data=d, family=sm.families.Poisson()).fit()\n",
    "fit.aic"
   ]
  },
  {
   "cell_type": "code",
   "execution_count": 4,
   "metadata": {
    "collapsed": false
   },
   "outputs": [
    {
     "data": {
      "text/plain": [
       "-192.8897525244958"
      ]
     },
     "execution_count": 4,
     "metadata": {},
     "output_type": "execute_result"
    }
   ],
   "source": [
    "# 各データに対し，それぞれの値を平均としたポワソン分布のパラメーターを与えたときの逸脱度 (最小逸脱度)．\n",
    "sum(np.log(stats.poisson.pmf(d['y'], mu=d['y'])))"
   ]
  },
  {
   "cell_type": "code",
   "execution_count": 5,
   "metadata": {
    "collapsed": false
   },
   "outputs": [
    {
     "data": {
      "text/plain": [
       "-237.64322130928667"
      ]
     },
     "execution_count": 5,
     "metadata": {},
     "output_type": "execute_result"
    }
   ],
   "source": [
    "fit_null = smf.glm('y ~ 1', data=d, family=sm.families.Poisson()).fit()\n",
    "fit_null.llf  # 一定モデルの逸脱度 (最大逸脱度)．"
   ]
  },
  {
   "cell_type": "markdown",
   "metadata": {},
   "source": [
    "以下はコードブロックではなく，教科書中の表4.3に対応するものを作ろうとしている．"
   ]
  },
  {
   "cell_type": "code",
   "execution_count": 6,
   "metadata": {
    "collapsed": true
   },
   "outputs": [],
   "source": [
    "fit_x = smf.glm('y ~ x', data=d, family=sm.families.Poisson()).fit()\n",
    "fit_f = smf.glm('y ~ f', data=d, family=sm.families.Poisson()).fit()\n",
    "fit_xf = smf.glm('y ~ x + f', data=d, family=sm.families.Poisson()).fit()\n",
    "full_logl = sum(np.log(stats.poisson.pmf(d['y'], mu=d['y'])))"
   ]
  },
  {
   "cell_type": "code",
   "execution_count": 7,
   "metadata": {
    "collapsed": true
   },
   "outputs": [],
   "source": [
    "Result = namedtuple('Result', ['name', 'k', 'logL', 'deviance', 'residual', 'AIC'])\n",
    "all_result = []\n",
    "all_result.append(Result('const', 1, fit_null.llf, -2 * fit_null.llf, fit_null.deviance, fit_null.aic))\n",
    "all_result.append(Result('x', 2, fit_x.llf, -2 * fit_x.llf, fit_x.deviance, fit_x.aic))\n",
    "all_result.append(Result('f', 2, fit_f.llf, -2 * fit_f.llf, fit_f.deviance, fit_f.aic))\n",
    "all_result.append(Result('xf', 3, fit_xf.llf, -2 * fit_xf.llf, fit_xf.deviance, fit_xf.aic))\n",
    "all_result.append(Result('full', 100, full_logl, -2 * full_logl, 0, -2 * full_logl + 2 * 100))"
   ]
  },
  {
   "cell_type": "code",
   "execution_count": 8,
   "metadata": {
    "collapsed": false
   },
   "outputs": [
    {
     "data": {
      "text/html": [
       "<div>\n",
       "<table border=\"1\" class=\"dataframe\">\n",
       "  <thead>\n",
       "    <tr style=\"text-align: right;\">\n",
       "      <th></th>\n",
       "      <th>name</th>\n",
       "      <th>k</th>\n",
       "      <th>logL</th>\n",
       "      <th>deviance</th>\n",
       "      <th>residual</th>\n",
       "      <th>AIC</th>\n",
       "    </tr>\n",
       "  </thead>\n",
       "  <tbody>\n",
       "    <tr>\n",
       "      <th>0</th>\n",
       "      <td>const</td>\n",
       "      <td>1</td>\n",
       "      <td>-237.6</td>\n",
       "      <td>475.3</td>\n",
       "      <td>89.5</td>\n",
       "      <td>477.3</td>\n",
       "    </tr>\n",
       "    <tr>\n",
       "      <th>1</th>\n",
       "      <td>x</td>\n",
       "      <td>2</td>\n",
       "      <td>-235.4</td>\n",
       "      <td>470.8</td>\n",
       "      <td>85.0</td>\n",
       "      <td>474.8</td>\n",
       "    </tr>\n",
       "    <tr>\n",
       "      <th>2</th>\n",
       "      <td>f</td>\n",
       "      <td>2</td>\n",
       "      <td>-237.6</td>\n",
       "      <td>475.3</td>\n",
       "      <td>89.5</td>\n",
       "      <td>479.3</td>\n",
       "    </tr>\n",
       "    <tr>\n",
       "      <th>3</th>\n",
       "      <td>xf</td>\n",
       "      <td>3</td>\n",
       "      <td>-235.3</td>\n",
       "      <td>470.6</td>\n",
       "      <td>84.8</td>\n",
       "      <td>476.6</td>\n",
       "    </tr>\n",
       "    <tr>\n",
       "      <th>4</th>\n",
       "      <td>full</td>\n",
       "      <td>100</td>\n",
       "      <td>-192.9</td>\n",
       "      <td>385.8</td>\n",
       "      <td>0.0</td>\n",
       "      <td>585.8</td>\n",
       "    </tr>\n",
       "  </tbody>\n",
       "</table>\n",
       "</div>"
      ],
      "text/plain": [
       "    name    k   logL  deviance  residual    AIC\n",
       "0  const    1 -237.6     475.3      89.5  477.3\n",
       "1      x    2 -235.4     470.8      85.0  474.8\n",
       "2      f    2 -237.6     475.3      89.5  479.3\n",
       "3     xf    3 -235.3     470.6      84.8  476.6\n",
       "4   full  100 -192.9     385.8       0.0  585.8"
      ]
     },
     "execution_count": 8,
     "metadata": {},
     "output_type": "execute_result"
    }
   ],
   "source": [
    "pd.DataFrame(data=all_result).round(1)  # devianceは変数追加にともなって減少するが，AICはxモデルで最小"
   ]
  }
 ],
 "metadata": {
  "kernelspec": {
   "display_name": "Python [conda root]",
   "language": "python",
   "name": "conda-root-py"
  },
  "language_info": {
   "codemirror_mode": {
    "name": "ipython",
    "version": 3
   },
   "file_extension": ".py",
   "mimetype": "text/x-python",
   "name": "python",
   "nbconvert_exporter": "python",
   "pygments_lexer": "ipython3",
   "version": "3.5.2"
  }
 },
 "nbformat": 4,
 "nbformat_minor": 2
}
