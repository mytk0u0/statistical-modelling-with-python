{
 "cells": [
  {
   "cell_type": "markdown",
   "metadata": {},
   "source": [
    "# 5. GLMの尤度比検定と検定の非対称性\n",
    "\n",
    "(ざっくり要約)\n",
    "\n",
    "* 現状の統計モデリングは試行錯誤主義である．\n",
    "    * ゆーい差が出ない → 変数変換 → ゆーい差が出た！ (☝՞ਊ ՞)☝\n",
    "* たまたま得られた観測データ群から推定されたモデルが「真のデータ」になることなんてほぼ無い．\n",
    "    * つまり，帰無仮説検定は根本的に問題がある．\n",
    "    * [この本](https://www.amazon.co.jp/伝えるための心理統計-効果量・信頼区間・検定力-大久保街亜/dp/4326250720)の冒頭で大久保先生や岡田先生も同じことを仰っていた**気がする** (うろ覚え)．\n",
    "* モデルの尤度を比較するための2つの尤度比検定がある (メモ: 対数尤度の差は尤度の比と対応する)．\n",
    "    1. パラメトリックブートストラップ法．汎用性が高い．\n",
    "    2. χ二乗値による近似計算．サンプルサイズが十分に大きい場合に有効である．本来100個じゃ足りない．\n",
    "* AICによるモデル選択は「良い予測をするモデル」の選択である一方，尤度比検定の場合は有意かどうかの判断のみを行い，良さの大小について言及しない．\n",
    "* p値はサンプル数等に依存するため，p値の小ささと効果の大きさは必ずしも対応しない．"
   ]
  },
  {
   "cell_type": "code",
   "execution_count": 1,
   "metadata": {
    "collapsed": true
   },
   "outputs": [],
   "source": [
    "%matplotlib inline\n",
    "import numpy as np\n",
    "import pandas as pd\n",
    "import matplotlib.pyplot as plt\n",
    "from scipy import stats\n",
    "import statsmodels.api as sm\n",
    "import statsmodels.formula.api as smf"
   ]
  },
  {
   "cell_type": "code",
   "execution_count": 2,
   "metadata": {
    "collapsed": true
   },
   "outputs": [],
   "source": [
    "d = pd.read_csv('data3a.csv')"
   ]
  },
  {
   "cell_type": "markdown",
   "metadata": {},
   "source": [
    "## パラメトリックブートストラップ法"
   ]
  },
  {
   "cell_type": "code",
   "execution_count": 3,
   "metadata": {
    "collapsed": false
   },
   "outputs": [],
   "source": [
    "# ポワソン分布のランダム変量 (random variates)\n",
    "d['y_rnd'] = stats.poisson.rvs(d['y'].mean(), size=100)"
   ]
  },
  {
   "cell_type": "code",
   "execution_count": 4,
   "metadata": {
    "collapsed": false
   },
   "outputs": [
    {
     "data": {
      "text/plain": [
       "0.66724591478630657"
      ]
     },
     "execution_count": 4,
     "metadata": {},
     "output_type": "execute_result"
    }
   ],
   "source": [
    "fit1 = smf.glm('y_rnd ~ 1', data=d, family=sm.families.Poisson()).fit()\n",
    "fit2 = smf.glm('y_rnd ~ x', data=d, family=sm.families.Poisson()).fit()\n",
    "fit1.deviance - fit2.deviance"
   ]
  },
  {
   "cell_type": "code",
   "execution_count": 5,
   "metadata": {
    "collapsed": false
   },
   "outputs": [],
   "source": [
    "def get_dd(d, i):\n",
    "    d = d.copy()\n",
    "    d['y_rnd'] = stats.poisson.rvs(d['y'].mean(), size=len(d))\n",
    "    fit1 = smf.glm('y_rnd ~ 1', data=d, family=sm.families.Poisson()).fit()\n",
    "    fit2 = smf.glm('y_rnd ~ x', data=d, family=sm.families.Poisson()).fit()\n",
    "    return fit1.deviance - fit2.deviance\n",
    "\n",
    "\n",
    "def pb(d, n_bootstrap):  # parametric bootstrap法\n",
    "    return [get_dd(d, i) for i in range(n_bootstrap)]\n",
    "\n",
    "\n",
    "dd12 = pb(d, n_bootstrap=1000)"
   ]
  },
  {
   "cell_type": "code",
   "execution_count": 6,
   "metadata": {
    "collapsed": false
   },
   "outputs": [
    {
     "data": {
      "text/plain": [
       "count    1000.000000\n",
       "mean        1.017367\n",
       "std         1.453350\n",
       "min         0.000014\n",
       "25%         0.104907\n",
       "50%         0.443979\n",
       "75%         1.335505\n",
       "max        11.664267\n",
       "dtype: float64"
      ]
     },
     "execution_count": 6,
     "metadata": {},
     "output_type": "execute_result"
    }
   ],
   "source": [
    "dd12 = pd.Series(dd12)\n",
    "dd12.describe()"
   ]
  },
  {
   "cell_type": "code",
   "execution_count": 7,
   "metadata": {
    "collapsed": false
   },
   "outputs": [
    {
     "data": {
      "text/plain": [
       "(0, 20)"
      ]
     },
     "execution_count": 7,
     "metadata": {},
     "output_type": "execute_result"
    },
    {
     "data": {
      "image/png": "[encoded data removed]",
      "text/plain": [
       "<matplotlib.figure.Figure at 0x10fdcfa90>"
      ]
     },
     "metadata": {},
     "output_type": "display_data"
    }
   ],
   "source": [
    "dd12.hist(bins=100)\n",
    "max_hist_values = np.histogram(dd12, bins=100)[0].max()\n",
    "plt.vlines(4.5, 0, max_hist_values, linestyles='--')\n",
    "plt.xlim(0, 20)"
   ]
  },
  {
   "cell_type": "code",
   "execution_count": 8,
   "metadata": {
    "collapsed": false
   },
   "outputs": [
    {
     "data": {
      "text/plain": [
       "34"
      ]
     },
     "execution_count": 8,
     "metadata": {},
     "output_type": "execute_result"
    }
   ],
   "source": [
    "sum(dd12 >= 4.5)"
   ]
  },
  {
   "cell_type": "code",
   "execution_count": 9,
   "metadata": {
    "collapsed": false,
    "scrolled": true
   },
   "outputs": [
    {
     "data": {
      "text/plain": [
       "3.9114631763221253"
      ]
     },
     "execution_count": 9,
     "metadata": {},
     "output_type": "execute_result"
    }
   ],
   "source": [
    "# 5%有意水準の場合，この数値以下の値は偶然の差とみなされる\n",
    "dd12.quantile(0.95)"
   ]
  },
  {
   "cell_type": "markdown",
   "metadata": {},
   "source": [
    "y_rndはxによって予測できないはずであるから，dd12には「予測できない値に対してxを適用したときに減少した逸脱度」になる．したがって，「yをxで予測したときの逸脱度の減少量」がdd12の95%クオンタイル点を越えるということは「予測できない値にxを適用したにしては，逸脱度が減りすぎだよね → yはxで予測できるんじゃない?」となる．"
   ]
  },
  {
   "cell_type": "markdown",
   "metadata": {},
   "source": [
    "## Χ二乗分布を使った近似計算"
   ]
  },
  {
   "cell_type": "code",
   "execution_count": 10,
   "metadata": {
    "collapsed": true
   },
   "outputs": [],
   "source": [
    "fit1 = smf.glm('y ~ 1', data=d, family=sm.families.Poisson()).fit()\n",
    "fit2 = smf.glm('y ~ x', data=d, family=sm.families.Poisson()).fit()"
   ]
  },
  {
   "cell_type": "code",
   "execution_count": 11,
   "metadata": {
    "collapsed": false
   },
   "outputs": [
    {
     "data": {
      "text/plain": [
       "0.033618533016720242"
      ]
     },
     "execution_count": 11,
     "metadata": {},
     "output_type": "execute_result"
    }
   ],
   "source": [
    "# Rのanova(fit1, fit2, test = \"Chisq\") に対応\n",
    "delta = fit1.deviance - fit2.deviance  # 4.514\n",
    "ddof = fit1.df_resid - fit2.df_resid  # 1\n",
    "1 - stats.chi2.cdf(4.514, 1)  # p value"
   ]
  },
  {
   "cell_type": "markdown",
   "metadata": {},
   "source": [
    "deltaで求めた逸脱度の差は，モデルによって追加されたパラメータの数 (= ddof) を自由度とするカイ二乗分布に近似できる**場合がある**．したがって，自由度ddofに従うカイ二乗累積分布において「1 - deltaに対応した累積確率」を計算ことで，「偶然生じた逸脱度の差にしてはΧ二乗値が大きすぎだよね → この逸脱度の差は偶然では無いレベルで大きいんじゃないか?」となる．"
   ]
  }
 ],
 "metadata": {
  "kernelspec": {
   "display_name": "Python [conda root]",
   "language": "python",
   "name": "conda-root-py"
  },
  "language_info": {
   "codemirror_mode": {
    "name": "ipython",
    "version": 3
   },
   "file_extension": ".py",
   "mimetype": "text/x-python",
   "name": "python",
   "nbconvert_exporter": "python",
   "pygments_lexer": "ipython3",
   "version": "3.5.2"
  }
 },
 "nbformat": 4,
 "nbformat_minor": 2
}
