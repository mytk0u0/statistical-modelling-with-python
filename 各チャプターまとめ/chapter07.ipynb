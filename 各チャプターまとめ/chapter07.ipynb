{
 "cells": [
  {
   "cell_type": "markdown",
   "metadata": {},
   "source": [
    "# 7. 一般化線形混合モデル (GLMM)\n",
    "\n",
    "(ざっくり要約)\n",
    "\n",
    "* 現実のデータにGLMが使えることはなかなか無い．\n",
    "    * なぜなら，大抵の場合は個体差や場所差に起因する過分さんが生じ，二項分布やポワソン分布に一致しないデータのかたちになってしまうからである\n",
    "* GLMMは，実態としては，\n",
    "    * ランダム効果 (random effect) の概念を加えただけである．\n",
    "    * 個体差を考慮して確率分布を補正しただけのGLMである．\n",
    "* 個体差は正規分布やガンマ分布になどに従う．これらの分布に理論的根拠は必ずしもなく，単に「扱いやすいから」利用される．\n",
    "* 一つの個体や場所から複数のデータを集めた = 疑似反復のデータにはGLMMを適用すべきである．\n",
    "\n",
    "(個人的感想)\n",
    "\n",
    "* コードを読むことよりも理論を学ぶことに意味がある章だと思います．そもそもコード自体3行しか無いし．\n",
    "* 心理学界隈だと清水裕士先生がGLMMについてとても詳しく紹介してくださっています．行動データはどうやっても過分散なのでGLMMは心理学者の救世主なのでは？という感じがします．"
   ]
  },
  {
   "cell_type": "code",
   "execution_count": 1,
   "metadata": {
    "collapsed": false
   },
   "outputs": [
    {
     "name": "stderr",
     "output_type": "stream",
     "text": [
      "Warning message:\n",
      "“package ‘glmmML’ was built under R version 3.3.2”"
     ]
    }
   ],
   "source": [
    "library(glmmML)"
   ]
  },
  {
   "cell_type": "code",
   "execution_count": 2,
   "metadata": {
    "collapsed": true
   },
   "outputs": [],
   "source": [
    "d <- read.csv('data.csv')"
   ]
  },
  {
   "cell_type": "code",
   "execution_count": 3,
   "metadata": {
    "collapsed": false
   },
   "outputs": [
    {
     "data": {
      "text/plain": [
       "\n",
       "Call:  glmmML(formula = cbind(y, N - y) ~ x, family = binomial, data = d,      cluster = id) \n",
       "\n",
       "\n",
       "              coef se(coef)      z Pr(>|z|)\n",
       "(Intercept) -4.190   0.8777 -4.774 1.81e-06\n",
       "x            1.005   0.2075  4.843 1.28e-06\n",
       "\n",
       "Scale parameter in mixing distribution:  2.408 gaussian \n",
       "Std. Error:                              0.2202 \n",
       "\n",
       "        LR p-value for H_0: sigma = 0:  2.136e-55 \n",
       "\n",
       "Residual deviance: 269.4 on 97 degrees of freedom \tAIC: 275.4 "
      ]
     },
     "metadata": {},
     "output_type": "display_data"
    }
   ],
   "source": [
    "glmmML(cbind(y, N - y) ~ x, data = d, family = binomial, cluster = id)"
   ]
  }
 ],
 "metadata": {
  "kernelspec": {
   "display_name": "R",
   "language": "R",
   "name": "ir"
  },
  "language_info": {
   "codemirror_mode": "r",
   "file_extension": ".r",
   "mimetype": "text/x-r-source",
   "name": "R",
   "pygments_lexer": "r",
   "version": "3.3.1"
  }
 },
 "nbformat": 4,
 "nbformat_minor": 2
}
