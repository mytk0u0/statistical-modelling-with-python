{
 "cells": [
  {
   "cell_type": "markdown",
   "metadata": {},
   "source": [
    "# 2. 確率分布と統計モデルの最尤推定\n",
    "\n",
    "(ざっくり要約)\n",
    "\n",
    "* ポワソン分布を採用する理由には以下のような例がある．\n",
    "    1. データが非負のカウントデータである．\n",
    "    2. データの下限は0だが，上限は不明である．\n",
    "    3. 平均と分散がほぼ同じである (ポワソン分布の平均と分散は等しいため)．\n",
    "* 統計モデルで主に使用される確率分布の特徴はざっくり言えば以下の通り．\n",
    "    * ポワソン分布は，「離散値」で「上限不明」で「平均 ≈ 分散」なカウントデータ．\n",
    "    * 二項分布は，「離散値」で「有限」で「分散は平均の関数」なカウントデータ．\n",
    "    * 正規分布は，「連続値」で「範囲が無限」で「平均と分散が無関係」なデータ．\n",
    "    * ガンマ分布は，「連続値」で「範囲が0以上」で「分散は平均の関数」なデータ．\n",
    "* 確率分布の採用理由は人に説明できるようにしよう．"
   ]
  },
  {
   "cell_type": "code",
   "execution_count": 1,
   "metadata": {
    "collapsed": true
   },
   "outputs": [],
   "source": [
    "%matplotlib inline\n",
    "import numpy as np\n",
    "import pandas as pd\n",
    "import matplotlib.pyplot as plt\n",
    "from scipy import stats"
   ]
  },
  {
   "cell_type": "code",
   "execution_count": 2,
   "metadata": {
    "collapsed": true
   },
   "outputs": [],
   "source": [
    "data = np.array([2, 2, 4, 6, 4, 5, 2, 3, 1, 2, 0, 4, 3,\n",
    "                 3, 3, 3, 4, 2, 7, 2, 4, 3, 3, 3, 4,\n",
    "                 3, 7, 5, 3, 1, 7, 6, 4, 6, 5, 2, 4, 7,\n",
    "                 2, 2, 6, 2, 4, 5, 4, 5, 1, 3, 2, 3])\n",
    "data = pd.Series(data)"
   ]
  },
  {
   "cell_type": "code",
   "execution_count": 3,
   "metadata": {
    "collapsed": false
   },
   "outputs": [
    {
     "data": {
      "text/plain": [
       "50"
      ]
     },
     "execution_count": 3,
     "metadata": {},
     "output_type": "execute_result"
    }
   ],
   "source": [
    "len(data)  # dataにはいくつのデータが含まれるのか?"
   ]
  },
  {
   "cell_type": "code",
   "execution_count": 4,
   "metadata": {
    "collapsed": false
   },
   "outputs": [
    {
     "data": {
      "text/plain": [
       "count    50.00000\n",
       "mean      3.56000\n",
       "std       1.72804\n",
       "min       0.00000\n",
       "25%       2.00000\n",
       "50%       3.00000\n",
       "75%       4.75000\n",
       "max       7.00000\n",
       "dtype: float64"
      ]
     },
     "execution_count": 4,
     "metadata": {},
     "output_type": "execute_result"
    }
   ],
   "source": [
    "data.describe()  # dataを要約せよ"
   ]
  },
  {
   "cell_type": "code",
   "execution_count": 5,
   "metadata": {
    "collapsed": false
   },
   "outputs": [
    {
     "data": {
      "text/plain": [
       "(array([ 1,  3, 11, 12, 10,  5,  8]),\n",
       " array([ 0.,  1.,  2.,  3.,  4.,  5.,  6.,  7.]))"
      ]
     },
     "execution_count": 5,
     "metadata": {},
     "output_type": "execute_result"
    }
   ],
   "source": [
    "np.histogram(data, bins=7)  # ヒストグラム"
   ]
  },
  {
   "cell_type": "code",
   "execution_count": 6,
   "metadata": {
    "collapsed": false,
    "scrolled": true
   },
   "outputs": [
    {
     "data": {
      "text/plain": [
       "<matplotlib.axes._subplots.AxesSubplot at 0x10ed47320>"
      ]
     },
     "execution_count": 6,
     "metadata": {},
     "output_type": "execute_result"
    },
    {
     "data": {
      "image/png": "[encoded data removed]",
      "text/plain": [
       "<matplotlib.figure.Figure at 0x1047e87f0>"
      ]
     },
     "metadata": {},
     "output_type": "display_data"
    }
   ],
   "source": [
    "# 注: Pythonの場合は「0以上1未満が1，1以上2未満が3」と数えるので少しずれる\n",
    "data.hist(bins=7)"
   ]
  },
  {
   "cell_type": "code",
   "execution_count": 7,
   "metadata": {
    "collapsed": false
   },
   "outputs": [
    {
     "data": {
      "text/plain": [
       "2.986122448979592"
      ]
     },
     "execution_count": 7,
     "metadata": {},
     "output_type": "execute_result"
    }
   ],
   "source": [
    "# 不偏分散 (自由度n-1; データを標本とみなした場合)\n",
    "np.var(data, ddof=1)  # \"delta degrees of freedom\"\n",
    "\n",
    "# 母分散 (自由度n; データを母集団とみなした場合)\n",
    "# np.var(data)"
   ]
  },
  {
   "cell_type": "code",
   "execution_count": 8,
   "metadata": {
    "collapsed": false
   },
   "outputs": [
    {
     "name": "stdout",
     "output_type": "stream",
     "text": [
      "1.728040060004279\n",
      "1.72804006\n"
     ]
    }
   ],
   "source": [
    "print(np.std(data, ddof=1))\n",
    "print(np.sqrt(np.var(data, ddof=1)))"
   ]
  },
  {
   "cell_type": "code",
   "execution_count": 9,
   "metadata": {
    "collapsed": false
   },
   "outputs": [
    {
     "data": {
      "text/plain": [
       "array([ 0.02843882,  0.10124222,  0.18021114,  0.21385056,  0.190327  ,\n",
       "        0.13551282,  0.08040427,  0.04089132,  0.01819664])"
      ]
     },
     "execution_count": 9,
     "metadata": {},
     "output_type": "execute_result"
    }
   ],
   "source": [
    "y = np.arange(9)\n",
    "prob = stats.poisson.pmf(k=y, mu=3.56)  # <=> dpois(y, lambda=3.56)\n",
    "prob # \"probability mass function\" = 変数がある値となる確率"
   ]
  },
  {
   "cell_type": "code",
   "execution_count": 10,
   "metadata": {
    "collapsed": false
   },
   "outputs": [
    {
     "data": {
      "text/plain": [
       "[<matplotlib.lines.Line2D at 0x10f116d68>]"
      ]
     },
     "execution_count": 10,
     "metadata": {},
     "output_type": "execute_result"
    },
    {
     "data": {
      "image/png": "[encoded data removed]",
      "text/plain": [
       "<matplotlib.figure.Figure at 0x10ebcdf60>"
      ]
     },
     "metadata": {},
     "output_type": "display_data"
    }
   ],
   "source": [
    "plt.plot(y, prob, 'o--')"
   ]
  },
  {
   "cell_type": "code",
   "execution_count": 11,
   "metadata": {
    "collapsed": false
   },
   "outputs": [
    {
     "data": {
      "text/plain": [
       "[<matplotlib.lines.Line2D at 0x10f1f95f8>]"
      ]
     },
     "execution_count": 11,
     "metadata": {},
     "output_type": "execute_result"
    },
    {
     "data": {
      "image/png": "[encoded data removed]",
      "text/plain": [
       "<matplotlib.figure.Figure at 0x10f12aa58>"
      ]
     },
     "metadata": {},
     "output_type": "display_data"
    }
   ],
   "source": [
    "def logL(m):  # 対数尤度を求める関数\n",
    "    prob = stats.poisson.pmf(data, mu=m)\n",
    "    log_prob = np.log(prob)\n",
    "    return sum(log_prob)\n",
    "\n",
    "lambda_ = np.arange(2, 5.1, 0.1)\n",
    "likelihood = [logL(i) for i in lambda_]\n",
    "plt.plot(lambda_, likelihood)"
   ]
  }
 ],
 "metadata": {
  "kernelspec": {
   "display_name": "Python [conda root]",
   "language": "python",
   "name": "conda-root-py"
  },
  "language_info": {
   "codemirror_mode": {
    "name": "ipython",
    "version": 3
   },
   "file_extension": ".py",
   "mimetype": "text/x-python",
   "name": "python",
   "nbconvert_exporter": "python",
   "pygments_lexer": "ipython3",
   "version": "3.5.2"
  }
 },
 "nbformat": 4,
 "nbformat_minor": 2
}
